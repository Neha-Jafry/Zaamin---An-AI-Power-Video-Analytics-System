{
 "cells": [
  {
   "cell_type": "code",
   "execution_count": 1,
   "metadata": {},
   "outputs": [],
   "source": [
    "import os.path\n",
    "import shutil\n",
    "import glob\n",
    "from tempfile import mkstemp\n",
    "from shutil import move, copymode, copyfile, copy\n",
    "from os import fdopen, remove, listdir\n",
    "import os"
   ]
  },
  {
   "cell_type": "code",
   "execution_count": 4,
   "metadata": {},
   "outputs": [
    {
     "name": "stdout",
     "output_type": "stream",
     "text": [
      "./images\\000000000081.txt\n",
      "./images\\000000000247.txt\n",
      "./images\\000000008311.txt\n",
      "./images\\000000008373.txt\n",
      "./images\\000000008432.txt\n",
      "./images\\000000016418.txt\n",
      "./images\\000000016432.txt\n",
      "./images\\000000024585.txt\n",
      "./images\\000000024728.txt\n",
      "./images\\000000024790.txt\n",
      "./images\\000000032787.txt\n",
      "./images\\000000032948.txt\n",
      "./images\\000000057362.txt\n",
      "./images\\000000057429.txt\n",
      "./images\\000000073837.txt\n",
      "./images\\000000073892.txt\n",
      "./images\\000000081922.txt\n",
      "./images\\000000090274.txt\n",
      "./images\\000000098395.txt\n",
      "./images\\000000098479.txt\n",
      "./images\\000000098523.txt\n",
      "./images\\000000106586.txt\n",
      "./images\\000000106756.txt\n",
      "./images\\000000114728.txt\n",
      "./images\\000000122908.txt\n",
      "./images\\000000131118.txt\n",
      "./images\\000000131133.txt\n",
      "./images\\000000131174.txt\n",
      "./images\\000000147698.txt\n",
      "./images\\000000155751.txt\n",
      "./images\\000000164010.txt\n",
      "./images\\000000164041.txt\n",
      "./images\\000000180272.txt\n",
      "./images\\000000180411.txt\n",
      "./images\\000000188587.txt\n",
      "./images\\000000196675.txt\n",
      "./images\\000000196681.txt\n",
      "./images\\000000196804.txt\n",
      "./images\\000000204938.txt\n",
      "./images\\000000205040.txt\n",
      "./images\\000000221184.txt\n",
      "./images\\000000221322.txt\n",
      "./images\\000000229415.txt\n",
      "./images\\000000229605.txt\n",
      "./images\\000000229616.txt\n",
      "./images\\000000237592.txt\n",
      "./images\\000000237716.txt\n",
      "./images\\000000237735.txt\n",
      "./images\\000000237791.txt\n",
      "./images\\000000246012.txt\n",
      "./images\\000000253965.txt\n",
      "./images\\000000254104.txt\n",
      "./images\\000000262148.txt\n",
      "./images\\000000262187.txt\n",
      "./images\\000000270512.txt\n",
      "./images\\000000278565.txt\n",
      "./images\\000000278760.txt\n",
      "./images\\000000294974.txt\n",
      "./images\\000000295076.txt\n",
      "./images\\000000311324.txt\n",
      "./images\\000000311475.txt\n",
      "./images\\000000311511.txt\n",
      "./images\\000000327857.txt\n",
      "./images\\000000336006.txt\n",
      "./images\\000000336061.txt\n",
      "./images\\000000336107.txt\n",
      "./images\\000000352264.txt\n",
      "./images\\000000352485.txt\n",
      "./images\\000000360604.txt\n",
      "./images\\000000360606.txt\n",
      "./images\\000000360611.txt\n",
      "./images\\000000360643.txt\n",
      "./images\\000000360698.txt\n",
      "./images\\000000360701.txt\n",
      "./images\\000000376838.txt\n",
      "./images\\000000376996.txt\n",
      "./images\\000000393221.txt\n",
      "./images\\000000393311.txt\n",
      "./images\\000000393410.txt\n",
      "./images\\000000409653.txt\n",
      "./images\\000000409767.txt\n",
      "./images\\000000417822.txt\n",
      "./images\\000000426118.txt\n",
      "./images\\000000434381.txt\n",
      "./images\\000000450763.txt\n",
      "./images\\000000450774.txt\n",
      "./images\\000000467097.txt\n",
      "./images\\000000467142.txt\n",
      "./images\\000000467154.txt\n",
      "./images\\000000483475.txt\n",
      "./images\\000000483547.txt\n",
      "./images\\000000483573.txt\n",
      "./images\\000000516174.txt\n",
      "./images\\000000532521.txt\n",
      "./images\\000000540695.txt\n",
      "./images\\000000540697.txt\n",
      "./images\\000000540785.txt\n",
      "./images\\000000540816.txt\n",
      "./images\\000000548933.txt\n",
      "./images\\000000549011.txt\n",
      "./images\\000000557200.txt\n",
      "./images\\000000573572.txt\n",
      "./images\\000000581770.txt\n",
      "./images\\000000581797.txt\n"
     ]
    }
   ],
   "source": [
    "classes = {'0':'0', '1':'1','2':'2','4':'3','6':'4','7':'5'}\n",
    "\n",
    "for file in glob.glob('./images/*.txt'): \n",
    "    name = file.split('.txt')[0]\n",
    "    myfile = open(file,\"r\")\n",
    "    lines = myfile.readlines()\n",
    "    for line in lines:\n",
    "        if line.split()[0] == '3':\n",
    "            print(file)\n",
    "        else:\n",
    "            copy(file, './img1/')\n",
    "            copy(name+'.jpg', './img1')"
   ]
  },
  {
   "cell_type": "code",
   "execution_count": 2,
   "metadata": {},
   "outputs": [
    {
     "name": "stdout",
     "output_type": "stream",
     "text": [
      "{'bicycle': 13376, 'car': 15236, 'motorbike': 16986, 'bus': 15235, 'truck': 14800, 'rickshaw': 15852}\n",
      "91485\n"
     ]
    }
   ],
   "source": [
    "from matplotlib import pyplot as plt\n",
    "count =  {'1':0, '2': 0, '3':0, '4':0, '5':0, '6':0, '7':0, '0': 0}\n",
    "# path = './images/'\n",
    "\n",
    "for file in glob.glob('./full_dataset/*.txt'):  \n",
    "    # print(fg\n",
    "    # name = file.split('.'g\n",
    "    myfile = open(file,\"r\")\n",
    "    lines = myfile.readlines()\n",
    "    for line in lines:\n",
    "        count[line.split()[0]] = count.get(line.split()[0], 0) +1\n",
    "    \n",
    "# print(count)\n",
    "\n",
    "classes = {\n",
    "    'bicycle': count['0'],\n",
    "    'car': count['1'],\n",
    "    'motorbike': count['2'],\n",
    "    # 'aeroplane': count['6'],\n",
    "    'bus': count['3'],\n",
    "    # 'train': count['7'],\n",
    "    'truck': count['4'],\n",
    "    'rickshaw': count['5']\n",
    "}\n",
    "\n",
    "keys= classes.keys()\n",
    "values= classes.values()\n",
    "\n",
    "print(classes)\n",
    "print(sum(list(classes.values())))"
   ]
  },
  {
   "cell_type": "code",
   "execution_count": 20,
   "metadata": {},
   "outputs": [
    {
     "name": "stdout",
     "output_type": "stream",
     "text": [
      "{'1': 77, '2': 52, '3': 0, '4': 62, '5': 0, '6': 59, '7': 0, '0': 39}\n"
     ]
    }
   ],
   "source": [
    "count =  {'1':239-162, '2': 214-162, '3':0, '4':224-162, '5':0, '6':221-162, '7':0, '0': 201-162}\n",
    "print(count)\n",
    "\n",
    "for file in glob.glob('./test_image_coco/*.txt'):  \n",
    "    # print(file)\n",
    "    name = file.split('.txt')[0]\n",
    "    # print(file, name)\n",
    "    myfile = open(file,\"r\")\n",
    "    lines = myfile.readlines()\n",
    "    fg =False\n",
    "    for line in lines:\n",
    "        if fg:\n",
    "            count[line.split()[0]] = count.get(line.split()[0], 0) -1\n",
    "        elif ('000' in file) and count[line.split()[0]] != 0:\n",
    "            fg = True\n",
    "            count[line.split()[0]] = count.get(line.split()[0], 0) -1\n",
    "        else:\n",
    "            copy(file, './augmented_test/')\n",
    "            copy(name+'.jpg', './augmented_test') \n",
    "            # pass"
   ]
  },
  {
   "cell_type": "code",
   "execution_count": 8,
   "metadata": {},
   "outputs": [],
   "source": [
    "classes =  {'1':'1', '2': '2', '4':'3', '6':'4', '7':'5', '0': '0'}\n",
    "# print(count)\n",
    "\n",
    "\n",
    "path = './aug_test/'\n",
    "for file in glob.glob('./augmented_test/*.txt'):\n",
    "    fd, abspath = mkstemp()\n",
    "    with fdopen(fd,'w') as file1:\n",
    "        myfile = open(file,\"r\")\n",
    "        lines = myfile.readlines()\n",
    "        name = file.split(\"\\\\\")[1]\n",
    "        for line in lines:\n",
    "            line = line.split()\n",
    "            l = line.pop(0)\n",
    "            line.insert(0, classes[l])\n",
    "            line = ' '.join(line)\n",
    "            file1.write(line+'\\n')\n",
    "    copymode(file, abspath)\n",
    "    move(abspath, path+name)\n",
    "    img_name = name.split('.txt')[0]\n",
    "    copy('./augmented_test/'+img_name+'.jpg', path+img_name+'.jpg')"
   ]
  },
  {
   "cell_type": "code",
   "execution_count": 14,
   "metadata": {},
   "outputs": [],
   "source": [
    "# !pip install tdqm\n",
    "from tqdm import tqdm"
   ]
  },
  {
   "cell_type": "code",
   "execution_count": 50,
   "metadata": {},
   "outputs": [],
   "source": [
    "# import tdqm\n",
    "def split_img_label(data_train,data_test,folder_train,folder_test):\n",
    "    \n",
    "    # os.mkdir(folder_train)\n",
    "    # os.mkdir(folder_test)\n",
    "    \n",
    "    \n",
    "    train_ind=list(data_train.index)\n",
    "    test_ind=list(data_test.index)\n",
    "    \n",
    "    print(data_train[train_ind[0]])\n",
    "    \n",
    "    # Train folder\n",
    "    for i in tqdm(range(len(train_ind))):\n",
    "        # print(data_train[train_ind[i]], './'+ folder_train + '/'  +data_train[train_ind[i]].split('/')[3])\n",
    "        copy(data_train[train_ind[i]],'./'+ folder_train + '/'  +data_train[train_ind[i]].split('/')[3])\n",
    "        copy(data_train[train_ind[i]].split('.jpg')[0]+'.txt', './'+ folder_train + '/'  +data_train[train_ind[i]].split('/')[3].split('.jpg')[0]+'.txt')\n",
    "    \n",
    "    # Test folder\n",
    "    for j in tqdm(range(len(test_ind))):\n",
    "        \n",
    "        copy(data_test[test_ind[j]], './'+ folder_test + '/'  +data_test[test_ind[j]].split('/')[3])\n",
    "        copy(data_test[test_ind[j]].split('.jpg')[0]+'.txt', './'+ folder_test + '/'  +data_test[test_ind[j]].split('/')[3].split('.jpg')[0]+'.txt')\n"
   ]
  },
  {
   "cell_type": "code",
   "execution_count": 19,
   "metadata": {},
   "outputs": [
    {
     "name": "stdout",
     "output_type": "stream",
     "text": [
      "Collecting sklearn\n",
      "  Downloading sklearn-0.0.tar.gz (1.1 kB)\n",
      "Collecting scikit-learn\n",
      "  Using cached scikit_learn-1.0.2-cp310-cp310-win_amd64.whl (7.2 MB)\n",
      "Collecting threadpoolctl>=2.0.0\n",
      "  Using cached threadpoolctl-3.1.0-py3-none-any.whl (14 kB)\n",
      "Collecting joblib>=0.11\n",
      "  Using cached joblib-1.1.0-py2.py3-none-any.whl (306 kB)\n",
      "Requirement already satisfied: numpy>=1.14.6 in d:\\fyp\\imgaug\\env\\lib\\site-packages (from scikit-learn->sklearn) (1.22.3)\n",
      "Requirement already satisfied: scipy>=1.1.0 in d:\\fyp\\imgaug\\env\\lib\\site-packages (from scikit-learn->sklearn) (1.8.0)\n",
      "Using legacy 'setup.py install' for sklearn, since package 'wheel' is not installed.\n",
      "Installing collected packages: threadpoolctl, joblib, scikit-learn, sklearn\n",
      "    Running setup.py install for sklearn: started\n",
      "    Running setup.py install for sklearn: finished with status 'done'\n",
      "Successfully installed joblib-1.1.0 scikit-learn-1.0.2 sklearn-0.0 threadpoolctl-3.1.0\n"
     ]
    },
    {
     "name": "stderr",
     "output_type": "stream",
     "text": [
      "WARNING: You are using pip version 21.2.4; however, version 22.0.4 is available.\n",
      "You should consider upgrading via the 'D:\\FYP\\imgaug\\env\\Scripts\\python.exe -m pip install --upgrade pip' command.\n"
     ]
    }
   ],
   "source": [
    "!pip install sklearn"
   ]
  },
  {
   "cell_type": "code",
   "execution_count": 59,
   "metadata": {},
   "outputs": [
    {
     "name": "stdout",
     "output_type": "stream",
     "text": [
      "./dataset/train/000000507937_8.jpg\n"
     ]
    },
    {
     "name": "stderr",
     "output_type": "stream",
     "text": [
      "100%|██████████| 33306/33306 [24:08<00:00, 22.99it/s]  \n",
      "100%|██████████| 9395/9395 [06:56<00:00, 22.57it/s]\n"
     ]
    }
   ],
   "source": [
    "import pandas as pd \n",
    "import os \n",
    "from sklearn.model_selection import train_test_split\n",
    "import glob\n",
    "\n",
    "\n",
    "PATH = './dataset/train/'\n",
    "list_img=[img for img in os.listdir(PATH) if img.endswith('.jpg')==True]\n",
    "list_txt=[img for img in os.listdir(PATH) if img.endswith('.txt')==True]\n",
    "\n",
    "path_img=[]\n",
    "\n",
    "for i in range (len(list_img)):\n",
    "    path_img.append(PATH+list_img[i])\n",
    "    \n",
    "df=pd.DataFrame(path_img)\n",
    "\n",
    "# split \n",
    "data_train, data_test, labels_train, labels_test = train_test_split(df[0], df.index, test_size=0.22, random_state=42)\n",
    "\n",
    "# Function split \n",
    "split_img_label(data_train,data_test,'dataset/trn','dataset/val')"
   ]
  }
 ],
 "metadata": {
  "interpreter": {
   "hash": "962a798e4524ea9d6c78a283790deb2e05a4bd9dba015f70ed1d58d98c6320d4"
  },
  "kernelspec": {
   "display_name": "Python 3.10.2 ('env': venv)",
   "language": "python",
   "name": "python3"
  },
  "language_info": {
   "codemirror_mode": {
    "name": "ipython",
    "version": 3
   },
   "file_extension": ".py",
   "mimetype": "text/x-python",
   "name": "python",
   "nbconvert_exporter": "python",
   "pygments_lexer": "ipython3",
   "version": "3.10.2"
  },
  "orig_nbformat": 4
 },
 "nbformat": 4,
 "nbformat_minor": 2
}
